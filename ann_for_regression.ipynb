{
 "cells": [
  {
   "cell_type": "markdown",
   "id": "a6afe50b",
   "metadata": {},
   "source": [
    "# Artificial Neural Network"
   ]
  },
  {
   "cell_type": "markdown",
   "id": "63d555f4",
   "metadata": {},
   "source": [
    "### Importing the libraries"
   ]
  },
  {
   "cell_type": "code",
   "execution_count": 1,
   "id": "7c12d3ba",
   "metadata": {},
   "outputs": [],
   "source": [
    "import numpy as np\n",
    "import pandas as pd\n",
    "import tensorflow as tf"
   ]
  },
  {
   "cell_type": "code",
   "execution_count": 2,
   "id": "e85792e1",
   "metadata": {},
   "outputs": [
    {
     "data": {
      "text/plain": [
       "'2.8.0'"
      ]
     },
     "execution_count": 2,
     "metadata": {},
     "output_type": "execute_result"
    }
   ],
   "source": [
    "tf.__version__"
   ]
  },
  {
   "cell_type": "markdown",
   "id": "b842a6bd",
   "metadata": {},
   "source": [
    "## Data Preprocessing"
   ]
  },
  {
   "cell_type": "code",
   "execution_count": 3,
   "id": "3cad8833",
   "metadata": {},
   "outputs": [],
   "source": [
    "dataset = pd.read_excel('./Data.xlsx')\n",
    "X = dataset.iloc[:, :-1].values\n",
    "y = dataset.iloc[:, -1].values"
   ]
  },
  {
   "cell_type": "code",
   "execution_count": 4,
   "id": "20ece080",
   "metadata": {},
   "outputs": [],
   "source": [
    "from sklearn.model_selection import train_test_split\n",
    "X_train, X_test, y_train, y_test = train_test_split(X, y, test_size = 0.2, random_state = 0)"
   ]
  },
  {
   "cell_type": "markdown",
   "id": "5612228d",
   "metadata": {},
   "source": [
    "## Feature Scaling"
   ]
  },
  {
   "cell_type": "code",
   "execution_count": 5,
   "id": "04e38c6e",
   "metadata": {},
   "outputs": [],
   "source": [
    "from sklearn.preprocessing import StandardScaler\n",
    "sc = StandardScaler()\n",
    "X_train = sc.fit_transform(X_train)\n",
    "X_test = sc.transform(X_test)"
   ]
  },
  {
   "cell_type": "markdown",
   "id": "e2da6add",
   "metadata": {},
   "source": [
    "## Building the ANN"
   ]
  },
  {
   "cell_type": "code",
   "execution_count": 6,
   "id": "d34e3ea7",
   "metadata": {},
   "outputs": [],
   "source": [
    "model = tf.keras.models.Sequential()\n",
    "model.add(tf.keras.layers.Dense(units=6, activation='relu'))\n",
    "model.add(tf.keras.layers.Dense(units=6, activation='relu'))\n",
    "model.add(tf.keras.layers.Dense(units=1))"
   ]
  },
  {
   "cell_type": "markdown",
   "id": "55b0a56d",
   "metadata": {},
   "source": [
    "## Training the ANN"
   ]
  },
  {
   "cell_type": "code",
   "execution_count": 7,
   "id": "23cf9e37",
   "metadata": {},
   "outputs": [],
   "source": [
    "model.compile(optimizer = 'adam', loss = 'mean_squared_error')"
   ]
  },
  {
   "cell_type": "code",
   "execution_count": 8,
   "id": "7cad8ab5",
   "metadata": {},
   "outputs": [
    {
     "name": "stdout",
     "output_type": "stream",
     "text": [
      "Epoch 1/100\n",
      "240/240 [==============================] - 1s 1ms/step - loss: 205935.3594\n",
      "Epoch 2/100\n",
      "240/240 [==============================] - 0s 1ms/step - loss: 199165.6562\n",
      "Epoch 3/100\n",
      "240/240 [==============================] - 0s 1ms/step - loss: 171856.6250\n",
      "Epoch 4/100\n",
      "240/240 [==============================] - 0s 1ms/step - loss: 123861.2578\n",
      "Epoch 5/100\n",
      "240/240 [==============================] - 0s 1ms/step - loss: 82439.6875\n",
      "Epoch 6/100\n",
      "240/240 [==============================] - 0s 1ms/step - loss: 55055.6875\n",
      "Epoch 7/100\n",
      "240/240 [==============================] - 0s 1ms/step - loss: 33631.4023\n",
      "Epoch 8/100\n",
      "240/240 [==============================] - 0s 2ms/step - loss: 18025.9336\n",
      "Epoch 9/100\n",
      "240/240 [==============================] - 0s 1ms/step - loss: 9816.8467\n",
      "Epoch 10/100\n",
      "240/240 [==============================] - 0s 1ms/step - loss: 6473.9302\n",
      "Epoch 11/100\n",
      "240/240 [==============================] - 0s 2ms/step - loss: 4784.3657\n",
      "Epoch 12/100\n",
      "240/240 [==============================] - 0s 2ms/step - loss: 3653.2295\n",
      "Epoch 13/100\n",
      "240/240 [==============================] - 0s 2ms/step - loss: 2883.4343\n",
      "Epoch 14/100\n",
      "240/240 [==============================] - 1s 2ms/step - loss: 2346.8115\n",
      "Epoch 15/100\n",
      "240/240 [==============================] - 1s 2ms/step - loss: 1943.4969\n",
      "Epoch 16/100\n",
      "240/240 [==============================] - 1s 3ms/step - loss: 1615.2640\n",
      "Epoch 17/100\n",
      "240/240 [==============================] - 1s 3ms/step - loss: 1342.9896\n",
      "Epoch 18/100\n",
      "240/240 [==============================] - 1s 3ms/step - loss: 1111.4048\n",
      "Epoch 19/100\n",
      "240/240 [==============================] - 1s 3ms/step - loss: 914.5918\n",
      "Epoch 20/100\n",
      "240/240 [==============================] - 1s 3ms/step - loss: 745.3094\n",
      "Epoch 21/100\n",
      "240/240 [==============================] - 1s 3ms/step - loss: 599.7851\n",
      "Epoch 22/100\n",
      "240/240 [==============================] - 1s 3ms/step - loss: 474.7884\n",
      "Epoch 23/100\n",
      "240/240 [==============================] - 1s 2ms/step - loss: 365.9815\n",
      "Epoch 24/100\n",
      "240/240 [==============================] - 0s 2ms/step - loss: 275.7887\n",
      "Epoch 25/100\n",
      "240/240 [==============================] - 1s 2ms/step - loss: 201.0038\n",
      "Epoch 26/100\n",
      "240/240 [==============================] - 1s 2ms/step - loss: 143.7985\n",
      "Epoch 27/100\n",
      "240/240 [==============================] - 1s 2ms/step - loss: 101.8625\n",
      "Epoch 28/100\n",
      "240/240 [==============================] - 1s 2ms/step - loss: 74.1503\n",
      "Epoch 29/100\n",
      "240/240 [==============================] - 0s 2ms/step - loss: 56.2370\n",
      "Epoch 30/100\n",
      "240/240 [==============================] - 1s 2ms/step - loss: 44.4482\n",
      "Epoch 31/100\n",
      "240/240 [==============================] - 1s 2ms/step - loss: 37.0091\n",
      "Epoch 32/100\n",
      "240/240 [==============================] - 1s 2ms/step - loss: 32.0261\n",
      "Epoch 33/100\n",
      "240/240 [==============================] - 1s 2ms/step - loss: 28.5438\n",
      "Epoch 34/100\n",
      "240/240 [==============================] - 1s 2ms/step - loss: 26.0436\n",
      "Epoch 35/100\n",
      "240/240 [==============================] - 0s 2ms/step - loss: 24.5209\n",
      "Epoch 36/100\n",
      "240/240 [==============================] - 0s 2ms/step - loss: 23.6409\n",
      "Epoch 37/100\n",
      "240/240 [==============================] - 0s 2ms/step - loss: 23.0134\n",
      "Epoch 38/100\n",
      "240/240 [==============================] - 0s 2ms/step - loss: 22.5511\n",
      "Epoch 39/100\n",
      "240/240 [==============================] - 1s 2ms/step - loss: 22.1483\n",
      "Epoch 40/100\n",
      "240/240 [==============================] - 1s 2ms/step - loss: 21.8429\n",
      "Epoch 41/100\n",
      "240/240 [==============================] - 0s 2ms/step - loss: 21.7042\n",
      "Epoch 42/100\n",
      "240/240 [==============================] - 0s 2ms/step - loss: 21.4462\n",
      "Epoch 43/100\n",
      "240/240 [==============================] - 1s 2ms/step - loss: 21.2703\n",
      "Epoch 44/100\n",
      "240/240 [==============================] - 1s 2ms/step - loss: 21.1627\n",
      "Epoch 45/100\n",
      "240/240 [==============================] - 1s 2ms/step - loss: 21.1544\n",
      "Epoch 46/100\n",
      "240/240 [==============================] - 0s 2ms/step - loss: 21.0113\n",
      "Epoch 47/100\n",
      "240/240 [==============================] - 1s 2ms/step - loss: 20.8182\n",
      "Epoch 48/100\n",
      "240/240 [==============================] - 0s 2ms/step - loss: 20.7855\n",
      "Epoch 49/100\n",
      "240/240 [==============================] - 1s 2ms/step - loss: 20.7544\n",
      "Epoch 50/100\n",
      "240/240 [==============================] - 0s 2ms/step - loss: 20.6360\n",
      "Epoch 51/100\n",
      "240/240 [==============================] - 0s 2ms/step - loss: 20.6706\n",
      "Epoch 52/100\n",
      "240/240 [==============================] - 0s 2ms/step - loss: 20.8068\n",
      "Epoch 53/100\n",
      "240/240 [==============================] - 0s 2ms/step - loss: 20.6081\n",
      "Epoch 54/100\n",
      "240/240 [==============================] - 0s 2ms/step - loss: 20.4730\n",
      "Epoch 55/100\n",
      "240/240 [==============================] - 0s 2ms/step - loss: 20.4279\n",
      "Epoch 56/100\n",
      "240/240 [==============================] - 0s 2ms/step - loss: 20.4290\n",
      "Epoch 57/100\n",
      "240/240 [==============================] - 0s 2ms/step - loss: 20.4202\n",
      "Epoch 58/100\n",
      "240/240 [==============================] - 0s 2ms/step - loss: 20.5405\n",
      "Epoch 59/100\n",
      "240/240 [==============================] - 0s 2ms/step - loss: 20.4947\n",
      "Epoch 60/100\n",
      "240/240 [==============================] - 0s 2ms/step - loss: 20.3594\n",
      "Epoch 61/100\n",
      "240/240 [==============================] - 1s 2ms/step - loss: 20.3876\n",
      "Epoch 62/100\n",
      "240/240 [==============================] - 0s 2ms/step - loss: 20.4185\n",
      "Epoch 63/100\n",
      "240/240 [==============================] - 0s 2ms/step - loss: 20.3903\n",
      "Epoch 64/100\n",
      "240/240 [==============================] - 0s 2ms/step - loss: 20.3537\n",
      "Epoch 65/100\n",
      "240/240 [==============================] - 0s 2ms/step - loss: 20.5191\n",
      "Epoch 66/100\n",
      "240/240 [==============================] - 0s 2ms/step - loss: 20.3926\n",
      "Epoch 67/100\n",
      "240/240 [==============================] - 0s 2ms/step - loss: 20.3158\n",
      "Epoch 68/100\n",
      "240/240 [==============================] - 0s 2ms/step - loss: 20.2991\n",
      "Epoch 69/100\n",
      "240/240 [==============================] - 0s 2ms/step - loss: 20.3070\n",
      "Epoch 70/100\n",
      "240/240 [==============================] - 0s 2ms/step - loss: 20.4648\n",
      "Epoch 71/100\n",
      "240/240 [==============================] - 0s 2ms/step - loss: 20.4030\n",
      "Epoch 72/100\n",
      "240/240 [==============================] - 0s 2ms/step - loss: 20.3860\n",
      "Epoch 73/100\n",
      "240/240 [==============================] - 0s 2ms/step - loss: 20.2570\n",
      "Epoch 74/100\n",
      "240/240 [==============================] - 0s 2ms/step - loss: 20.3334\n",
      "Epoch 75/100\n",
      "240/240 [==============================] - 0s 2ms/step - loss: 20.3232\n",
      "Epoch 76/100\n",
      "240/240 [==============================] - 0s 2ms/step - loss: 20.3444\n",
      "Epoch 77/100\n",
      "240/240 [==============================] - 0s 2ms/step - loss: 20.3306\n",
      "Epoch 78/100\n",
      "240/240 [==============================] - 0s 2ms/step - loss: 20.5084\n",
      "Epoch 79/100\n",
      "240/240 [==============================] - 0s 2ms/step - loss: 20.3487\n",
      "Epoch 80/100\n",
      "240/240 [==============================] - 0s 2ms/step - loss: 20.4352\n",
      "Epoch 81/100\n",
      "240/240 [==============================] - 0s 2ms/step - loss: 20.2360\n",
      "Epoch 82/100\n",
      "240/240 [==============================] - 0s 2ms/step - loss: 20.2901\n",
      "Epoch 83/100\n",
      "240/240 [==============================] - 0s 2ms/step - loss: 20.3959\n",
      "Epoch 84/100\n",
      "240/240 [==============================] - 0s 2ms/step - loss: 20.2914\n",
      "Epoch 85/100\n",
      "240/240 [==============================] - 0s 2ms/step - loss: 20.4122\n",
      "Epoch 86/100\n",
      "240/240 [==============================] - 0s 2ms/step - loss: 20.2829\n",
      "Epoch 87/100\n",
      "240/240 [==============================] - 0s 2ms/step - loss: 20.2890\n",
      "Epoch 88/100\n",
      "240/240 [==============================] - 0s 2ms/step - loss: 20.3348\n",
      "Epoch 89/100\n",
      "240/240 [==============================] - 0s 2ms/step - loss: 20.3278\n",
      "Epoch 90/100\n",
      "240/240 [==============================] - 0s 2ms/step - loss: 20.2333\n",
      "Epoch 91/100\n",
      "240/240 [==============================] - 0s 2ms/step - loss: 20.3137\n",
      "Epoch 92/100\n",
      "240/240 [==============================] - 0s 2ms/step - loss: 20.3226\n",
      "Epoch 93/100\n",
      "240/240 [==============================] - 1s 2ms/step - loss: 20.2966\n",
      "Epoch 94/100\n",
      "240/240 [==============================] - 0s 2ms/step - loss: 20.2946\n",
      "Epoch 95/100\n",
      "240/240 [==============================] - 1s 2ms/step - loss: 20.3215\n",
      "Epoch 96/100\n",
      "240/240 [==============================] - 0s 2ms/step - loss: 20.3274\n",
      "Epoch 97/100\n",
      "240/240 [==============================] - 1s 2ms/step - loss: 20.3239\n"
     ]
    },
    {
     "name": "stdout",
     "output_type": "stream",
     "text": [
      "Epoch 98/100\n",
      "240/240 [==============================] - 0s 2ms/step - loss: 20.3741\n",
      "Epoch 99/100\n",
      "240/240 [==============================] - 0s 2ms/step - loss: 20.2650\n",
      "Epoch 100/100\n",
      "240/240 [==============================] - 0s 2ms/step - loss: 20.2728\n"
     ]
    },
    {
     "data": {
      "text/plain": [
       "<keras.callbacks.History at 0x1b6291e1cd0>"
      ]
     },
     "execution_count": 8,
     "metadata": {},
     "output_type": "execute_result"
    }
   ],
   "source": [
    "model.fit(X_train, y_train, batch_size = 32, epochs = 100)"
   ]
  },
  {
   "cell_type": "markdown",
   "id": "41f6e862",
   "metadata": {},
   "source": [
    "## Prediction "
   ]
  },
  {
   "cell_type": "code",
   "execution_count": 9,
   "id": "6cfa8362",
   "metadata": {},
   "outputs": [
    {
     "name": "stdout",
     "output_type": "stream",
     "text": [
      "R^2 :  0.9347749489850378\n",
      "MAE : 3.447644814677622\n",
      "RMSE: 4.36778364756054\n"
     ]
    }
   ],
   "source": [
    "from sklearn.metrics import mean_absolute_error,r2_score,mean_squared_error\n",
    "y_pred = model.predict(X_test)\n",
    "print(\"R^2 : \", r2_score(y_test, y_pred))\n",
    "print(\"MAE :\", mean_absolute_error(y_test,y_pred))\n",
    "print(\"RMSE:\",np.sqrt(mean_squared_error(y_test, y_pred)))"
   ]
  }
 ],
 "metadata": {
  "kernelspec": {
   "display_name": "Python 3 (ipykernel)",
   "language": "python",
   "name": "python3"
  },
  "language_info": {
   "codemirror_mode": {
    "name": "ipython",
    "version": 3
   },
   "file_extension": ".py",
   "mimetype": "text/x-python",
   "name": "python",
   "nbconvert_exporter": "python",
   "pygments_lexer": "ipython3",
   "version": "3.9.7"
  }
 },
 "nbformat": 4,
 "nbformat_minor": 5
}
